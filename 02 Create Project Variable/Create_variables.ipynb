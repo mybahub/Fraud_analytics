{
 "cells": [
  {
   "cell_type": "code",
   "execution_count": 1,
   "metadata": {},
   "outputs": [],
   "source": [
    "import pandas as pd\n",
    "import numpy as np\n",
    "import matplotlib.pyplot as plt\n",
    "import seaborn as sns\n",
    "import tqdm\n",
    "import time"
   ]
  },
  {
   "cell_type": "markdown",
   "metadata": {},
   "source": [
    "## 1. Load Data"
   ]
  },
  {
   "cell_type": "code",
   "execution_count": 2,
   "metadata": {},
   "outputs": [
    {
     "name": "stdout",
     "output_type": "stream",
     "text": [
      "<class 'pandas.core.frame.DataFrame'>\n",
      "RangeIndex: 1070994 entries, 0 to 1070993\n",
      "Data columns (total 32 columns):\n",
      " #   Column    Non-Null Count    Dtype  \n",
      "---  ------    --------------    -----  \n",
      " 0   RECORD    1070994 non-null  int64  \n",
      " 1   BBLE      1070994 non-null  object \n",
      " 2   B         1070994 non-null  int64  \n",
      " 3   BLOCK     1070994 non-null  int64  \n",
      " 4   LOT       1070994 non-null  int64  \n",
      " 5   EASEMENT  4636 non-null     object \n",
      " 6   OWNER     1039249 non-null  object \n",
      " 7   BLDGCL    1070994 non-null  object \n",
      " 8   TAXCLASS  1070994 non-null  object \n",
      " 9   LTFRONT   1070994 non-null  int64  \n",
      " 10  LTDEPTH   1070994 non-null  int64  \n",
      " 11  EXT       354305 non-null   object \n",
      " 12  STORIES   1014730 non-null  float64\n",
      " 13  FULLVAL   1070994 non-null  float64\n",
      " 14  AVLAND    1070994 non-null  float64\n",
      " 15  AVTOT     1070994 non-null  float64\n",
      " 16  EXLAND    1070994 non-null  float64\n",
      " 17  EXTOT     1070994 non-null  float64\n",
      " 18  EXCD1     638488 non-null   float64\n",
      " 19  STADDR    1070318 non-null  object \n",
      " 20  ZIP       1041104 non-null  float64\n",
      " 21  EXMPTCL   15579 non-null    object \n",
      " 22  BLDFRONT  1070994 non-null  int64  \n",
      " 23  BLDDEPTH  1070994 non-null  int64  \n",
      " 24  AVLAND2   282726 non-null   float64\n",
      " 25  AVTOT2    282732 non-null   float64\n",
      " 26  EXLAND2   87449 non-null    float64\n",
      " 27  EXTOT2    130828 non-null   float64\n",
      " 28  EXCD2     92948 non-null    float64\n",
      " 29  PERIOD    1070994 non-null  object \n",
      " 30  YEAR      1070994 non-null  object \n",
      " 31  VALTYPE   1070994 non-null  object \n",
      "dtypes: float64(13), int64(8), object(11)\n",
      "memory usage: 261.5+ MB\n"
     ]
    }
   ],
   "source": [
    "data=pd.read_csv(\"NY property data.csv\")\n",
    "data.info()"
   ]
  },
  {
   "cell_type": "markdown",
   "metadata": {},
   "source": [
    "## 2. Data Cleaning\n",
    "\n",
    "### 2.1 Remove properties owned by city, state, or federal governments"
   ]
  },
  {
   "cell_type": "code",
   "execution_count": 3,
   "metadata": {},
   "outputs": [],
   "source": [
    "# Remove properties owned by city, state, or federal governments\n",
    "remove_list=['PARKCHESTER PRESERVAT',\n",
    "            'PARKS AND RECREATION',\n",
    "            'DCAS',\n",
    "            'HOUSING PRESERVATION',\n",
    "            'CITY OF NEW YORK',\n",
    "            'DEPT OF ENVIRONMENTAL',\n",
    "            'BOARD OF EDUCATION',\n",
    "            'NEW YORK CITY HOUSING',\n",
    "            'CNY/NYCTA',\n",
    "            'NYC HOUSING PARTNERSH',\n",
    "            'DEPARTMENT OF BUSINES',\n",
    "            'DEPT OF TRANSPORTATIO',\n",
    "            'MTA/LIRR',\n",
    "            'PARCKHESTER PRESERVAT',\n",
    "            'MH RESIDENTIAL 1, LLC',\n",
    "            'LINCOLN PLAZA ASSOCIA',\n",
    "            'UNITED STATES OF AMER',\n",
    "            'U S GOVERNMENT OWNRD',\n",
    "            'THE CITY OF NEW YORK',\n",
    "            'NYS URBAN DEVELOPMENT',\n",
    "            'NYS DEPT OF ENVIRONME',\n",
    "            'CULTURAL AFFAIRS',\n",
    "            'DEPT OF GENERAL SERVI',\n",
    "            \"DEPT RE-CITY OF NY\"]\n",
    "property_data=data[~data['OWNER'].isin(remove_list)].copy().reset_index()"
   ]
  },
  {
   "cell_type": "markdown",
   "metadata": {},
   "source": [
    "### 2.2 Filling N/A\n",
    "\n",
    "#### 2.2.1 ZIP"
   ]
  },
  {
   "cell_type": "code",
   "execution_count": 4,
   "metadata": {},
   "outputs": [
    {
     "data": {
      "text/plain": [
       "21772"
      ]
     },
     "execution_count": 4,
     "metadata": {},
     "output_type": "execute_result"
    }
   ],
   "source": [
    "missing_zips=property_data.index[property_data[\"ZIP\"].isnull()].tolist()\n",
    "len(missing_zips)"
   ]
  },
  {
   "cell_type": "code",
   "execution_count": 5,
   "metadata": {},
   "outputs": [
    {
     "data": {
      "text/plain": [
       "10245"
      ]
     },
     "execution_count": 5,
     "metadata": {},
     "output_type": "execute_result"
    }
   ],
   "source": [
    "# fill with surrounding zips if the zips before and after the row are the same\n",
    "for i in missing_zips:\n",
    "    if(property_data.loc[i+1,'ZIP']==property_data.loc[i-1,'ZIP']):\n",
    "        property_data.loc[i,'ZIP']=property_data.loc[i-1,'ZIP']\n",
    "missing_zips=property_data.index[pd.isnull(property_data[\"ZIP\"])].tolist()\n",
    "len(missing_zips)"
   ]
  },
  {
   "cell_type": "code",
   "execution_count": 6,
   "metadata": {},
   "outputs": [
    {
     "data": {
      "text/plain": [
       "0"
      ]
     },
     "execution_count": 6,
     "metadata": {},
     "output_type": "execute_result"
    }
   ],
   "source": [
    "# fill with preceding ZIP\n",
    "for i in missing_zips:\n",
    "    property_data.loc[i,'ZIP']=property_data.loc[i-1,'ZIP']\n",
    "missing_zips=property_data.index[pd.isnull(property_data[\"ZIP\"])].tolist()\n",
    "len(missing_zips)"
   ]
  },
  {
   "cell_type": "markdown",
   "metadata": {},
   "source": [
    "#### 2.2.2 FULLVAL, AVLAND, AVTOT"
   ]
  },
  {
   "cell_type": "code",
   "execution_count": 7,
   "metadata": {},
   "outputs": [
    {
     "name": "stdout",
     "output_type": "stream",
     "text": [
      "TAXCLASS\n",
      "1     5.700059e+05\n",
      "1A    3.352942e+05\n",
      "1B    3.738399e+05\n",
      "1C    7.615359e+05\n",
      "1D    2.233614e+07\n",
      "2     8.005832e+05\n",
      "2A    8.639066e+05\n",
      "2B    1.254525e+06\n",
      "2C    7.723493e+05\n",
      "3     8.510005e+04\n",
      "4     2.772747e+06\n",
      "Name: FULLVAL, dtype: float64\n"
     ]
    }
   ],
   "source": [
    "# mean of FULLVAL by TAXCLASS\n",
    "property_data[\"FULLVAL\"]=property_data[\"FULLVAL\"].replace('NaN',0)\n",
    "temp=property_data[property_data[\"FULLVAL\"]!=0]\n",
    "mean_fullval=temp.groupby(\"TAXCLASS\")[\"FULLVAL\"].mean()\n",
    "print(mean_fullval)"
   ]
  },
  {
   "cell_type": "code",
   "execution_count": 8,
   "metadata": {},
   "outputs": [],
   "source": [
    "# mean of AVLAND by TAXCLASS\n",
    "property_data[\"AVLAND\"]=property_data[\"AVLAND\"].replace('NaN',0)\n",
    "temp_avland=property_data[property_data[\"AVLAND\"]!=0]\n",
    "mean_avland=temp.groupby(\"TAXCLASS\")[\"AVLAND\"].mean()"
   ]
  },
  {
   "cell_type": "code",
   "execution_count": 9,
   "metadata": {},
   "outputs": [],
   "source": [
    "# mean of AVTOT by TAXCLASS\n",
    "property_data[\"AVTOT\"]=property_data[\"AVTOT\"].replace('NaN',0)\n",
    "temp_avtot=property_data[property_data[\"AVTOT\"]!=0]\n",
    "mean_avtot=temp.groupby(\"TAXCLASS\")[\"AVTOT\"].mean()"
   ]
  },
  {
   "cell_type": "code",
   "execution_count": 10,
   "metadata": {},
   "outputs": [
    {
     "name": "stdout",
     "output_type": "stream",
     "text": [
      "CPU times: user 1e+03 ns, sys: 0 ns, total: 1e+03 ns\n",
      "Wall time: 3.81 µs\n"
     ]
    }
   ],
   "source": [
    "# sustitute 0 with averages by TAXCLASS\n",
    "%time\n",
    "for index in mean_fullval.index:\n",
    "    property_data.loc[(property_data[\"FULLVAL\"]==0)&(property_data[\"TAXCLASS\"]==index),\"FULLVAL\"]=mean_fullval[index]\n",
    "    property_data.loc[(property_data[\"AVLAND\"]==0)&(property_data[\"TAXCLASS\"]==index),\"AVLAND\"]=mean_avland[index]\n",
    "    property_data.loc[(property_data[\"AVTOT\"]==0)&(property_data[\"TAXCLASS\"]==index),\"AVTOT\"]=mean_avtot[index]\n",
    "    "
   ]
  },
  {
   "cell_type": "markdown",
   "metadata": {},
   "source": [
    "#### 2.2.3 STOREIS"
   ]
  },
  {
   "cell_type": "code",
   "execution_count": 11,
   "metadata": {},
   "outputs": [
    {
     "name": "stdout",
     "output_type": "stream",
     "text": [
      "Num of Missing values:43968\n",
      "Num of 0 stories: 0\n"
     ]
    },
    {
     "data": {
      "text/plain": [
       "1B    19055\n",
       "4     17979\n",
       "2      3434\n",
       "3      2416\n",
       "1       877\n",
       "2C      138\n",
       "2B       34\n",
       "2A       30\n",
       "1A        5\n",
       "Name: TAXCLASS, dtype: int64"
      ]
     },
     "execution_count": 11,
     "metadata": {},
     "output_type": "execute_result"
    }
   ],
   "source": [
    "temp=property_data[property_data[\"STORIES\"].isnull()]\n",
    "print(f\"Num of Missing values:{len(temp)}\")\n",
    "print(\"Num of 0 stories: {}\".format((property_data[\"STORIES\"]==0).sum()))\n",
    "temp[\"TAXCLASS\"].value_counts()"
   ]
  },
  {
   "cell_type": "code",
   "execution_count": 12,
   "metadata": {},
   "outputs": [
    {
     "data": {
      "text/plain": [
       "TAXCLASS\n",
       "1      2.111633\n",
       "1A     1.656867\n",
       "1B     4.000000\n",
       "1C     3.052748\n",
       "1D     1.068966\n",
       "2     16.310549\n",
       "2A     2.844032\n",
       "2B     4.001635\n",
       "2C     4.744977\n",
       "3      1.000000\n",
       "4      5.517257\n",
       "Name: STORIES, dtype: float64"
      ]
     },
     "execution_count": 12,
     "metadata": {},
     "output_type": "execute_result"
    }
   ],
   "source": [
    "mean_stories=property_data.groupby(\"TAXCLASS\")[\"STORIES\"].mean()\n",
    "mean_stories"
   ]
  },
  {
   "cell_type": "code",
   "execution_count": 13,
   "metadata": {},
   "outputs": [],
   "source": [
    "property_data[\"STORIES\"]=property_data[\"STORIES\"].fillna(0)\n",
    "for index in mean_stories.index:\n",
    "    property_data.loc[(property_data[\"STORIES\"]==0)&(property_data[\"TAXCLASS\"]==index),'STORIES']=mean_stories[index]"
   ]
  },
  {
   "cell_type": "markdown",
   "metadata": {},
   "source": [
    "#### 2.2.4 LTFRONT, LTDEPTH, BLDFRONT, BLDDEPTH"
   ]
  },
  {
   "cell_type": "code",
   "execution_count": 14,
   "metadata": {},
   "outputs": [],
   "source": [
    "# as these 4 values do not have NAs, we need to replace 0s and 1s\n",
    "# calculate groupwise average. First replace 0's and 1's by NAs so they are not counted in calculating mean.\n",
    "property_data.loc[property_data[\"LTFRONT\"]==0,\"LTFRONT\"]=np.nan\n",
    "property_data.loc[property_data[\"LTFRONT\"]==1,\"LTFRONT\"]=np.nan\n",
    "property_data.loc[property_data[\"LTDEPTH\"]==0,\"LTDEPTH\"]=np.nan\n",
    "property_data.loc[property_data[\"LTDEPTH\"]==1,\"LTDEPTH\"]=np.nan\n",
    "property_data.loc[property_data[\"BLDFRONT\"]==0,\"BLDFRONT\"]=np.nan\n",
    "property_data.loc[property_data[\"BLDFRONT\"]==1,\"BLDFRONT\"]=np.nan\n",
    "property_data.loc[property_data[\"BLDDEPTH\"]==0,\"BLDDEPTH\"]=np.nan\n",
    "property_data.loc[property_data[\"BLDDEPTH\"]==1,\"BLDDEPTH\"]=np.nan"
   ]
  },
  {
   "cell_type": "code",
   "execution_count": 15,
   "metadata": {},
   "outputs": [],
   "source": [
    "# calculate the mean \n",
    "mean_LTFRONT=property_data.groupby(\"TAXCLASS\")[\"LTFRONT\"].mean()\n",
    "mean_LTDEPTH=property_data.groupby(\"TAXCLASS\")[\"LTDEPTH\"].mean()\n",
    "mean_BLDFRONT=property_data.groupby(\"TAXCLASS\")[\"BLDFRONT\"].mean()\n",
    "mean_BLDDEPTH=property_data.groupby(\"TAXCLASS\")[\"BLDDEPTH\"].mean()"
   ]
  },
  {
   "cell_type": "code",
   "execution_count": 16,
   "metadata": {},
   "outputs": [],
   "source": [
    "# impute values\n",
    "for index in mean_LTFRONT.index:\n",
    "    property_data.loc[(property_data[\"LTFRONT\"].isnull())&(property_data[\"TAXCLASS\"]==index),\"LTFRONT\"]=mean_LTFRONT[index]\n",
    "    property_data.loc[(property_data[\"LTDEPTH\"].isnull())&(property_data[\"TAXCLASS\"]==index),\"LTDEPTH\"]=mean_LTDEPTH[index]\n",
    "    property_data.loc[(property_data[\"BLDFRONT\"].isnull())&(property_data[\"TAXCLASS\"]==index),\"BLDFRONT\"]=mean_BLDFRONT[index]\n",
    "    property_data.loc[(property_data[\"BLDDEPTH\"].isnull())&(property_data[\"TAXCLASS\"]==index),\"BLDDEPTH\"]=mean_BLDDEPTH[index]"
   ]
  },
  {
   "cell_type": "markdown",
   "metadata": {},
   "source": [
    "## 3. Create Variables"
   ]
  },
  {
   "cell_type": "code",
   "execution_count": 17,
   "metadata": {},
   "outputs": [],
   "source": [
    "property_data[\"ZIP\"]=property_data[\"ZIP\"].astype(str)\n",
    "property_data[\"zip3\"]=property_data[\"ZIP\"].str[:3]"
   ]
  },
  {
   "cell_type": "code",
   "execution_count": 18,
   "metadata": {},
   "outputs": [],
   "source": [
    "property_data[\"ltsize\"]=property_data[\"LTFRONT\"]*property_data[\"LTDEPTH\"]\n",
    "property_data[\"bldsize\"]=property_data[\"BLDFRONT\"]*property_data[\"BLDDEPTH\"]\n",
    "property_data[\"bldvol\"]=property_data[\"bldsize\"]*property_data[\"STORIES\"]"
   ]
  },
  {
   "cell_type": "code",
   "execution_count": 19,
   "metadata": {},
   "outputs": [],
   "source": [
    "property_data['r1']=property_data[\"FULLVAL\"]/property_data[\"ltsize\"]\n",
    "property_data['r2']=property_data[\"FULLVAL\"]/property_data[\"bldsize\"]\n",
    "property_data['r3']=property_data[\"FULLVAL\"]/property_data[\"bldvol\"]\n",
    "property_data['r4']=property_data[\"AVLAND\"]/property_data[\"ltsize\"]\n",
    "property_data['r5']=property_data[\"AVLAND\"]/property_data[\"bldsize\"]\n",
    "property_data['r6']=property_data[\"AVLAND\"]/property_data[\"bldvol\"]\n",
    "property_data['r7']=property_data[\"AVTOT\"]/property_data[\"ltsize\"]\n",
    "property_data['r8']=property_data[\"AVTOT\"]/property_data[\"bldsize\"]\n",
    "property_data['r9']=property_data[\"AVTOT\"]/property_data[\"bldvol\"]"
   ]
  },
  {
   "cell_type": "code",
   "execution_count": 20,
   "metadata": {},
   "outputs": [],
   "source": [
    "ninevars=['r1','r2','r3','r4','r5','r6','r7','r8','r9']\n",
    "zip5_mean=property_data.groupby('ZIP')[ninevars].mean()\n",
    "zip3_mean=property_data.groupby('zip3')[ninevars].mean()\n",
    "taxclass_mean=property_data.groupby('TAXCLASS')[ninevars].mean()\n",
    "borough_mean=property_data.groupby(\"B\")[ninevars].mean()\n",
    "\n",
    "property_data=property_data.join(zip5_mean,on='ZIP',rsuffix='_zip5')\n",
    "property_data=property_data.join(zip3_mean,on='zip3',rsuffix='_zip3')\n",
    "property_data=property_data.join(taxclass_mean,on='TAXCLASS',rsuffix='_taxclass')\n",
    "property_data=property_data.join(borough_mean,on='B',rsuffix='_boro')"
   ]
  },
  {
   "cell_type": "code",
   "execution_count": 21,
   "metadata": {},
   "outputs": [],
   "source": [
    "rsuffix=['_zip5','_zip3','_taxclass','_boro']\n",
    "for var in ninevars:\n",
    "    for r in rsuffix:\n",
    "        property_data[str(var)+r]=property_data[var]/property_data[str(var)+r]"
   ]
  },
  {
   "cell_type": "code",
   "execution_count": 22,
   "metadata": {},
   "outputs": [],
   "source": [
    "property_data.loc[:,property_data.columns[37:]].describe().T.to_excel(\"test.xlsx\")"
   ]
  },
  {
   "cell_type": "code",
   "execution_count": null,
   "metadata": {},
   "outputs": [],
   "source": []
  }
 ],
 "metadata": {
  "kernelspec": {
   "display_name": "Python 3",
   "language": "python",
   "name": "python3"
  },
  "language_info": {
   "codemirror_mode": {
    "name": "ipython",
    "version": 3
   },
   "file_extension": ".py",
   "mimetype": "text/x-python",
   "name": "python",
   "nbconvert_exporter": "python",
   "pygments_lexer": "ipython3",
   "version": "3.8.3"
  }
 },
 "nbformat": 4,
 "nbformat_minor": 4
}
