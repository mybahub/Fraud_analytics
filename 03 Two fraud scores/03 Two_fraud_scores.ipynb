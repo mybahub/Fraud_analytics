{
 "cells": [
  {
   "cell_type": "code",
   "execution_count": 1,
   "metadata": {},
   "outputs": [],
   "source": [
    "import pandas as pd\n",
    "import numpy as np\n",
    "import matplotlib.pyplot as plt\n",
    "import seaborn as sns\n",
    "import tqdm\n",
    "import time\n",
    "from sklearn.decomposition import PCA"
   ]
  },
  {
   "cell_type": "markdown",
   "metadata": {},
   "source": [
    "## 1. Load Data"
   ]
  },
  {
   "cell_type": "code",
   "execution_count": 107,
   "metadata": {},
   "outputs": [
    {
     "name": "stdout",
     "output_type": "stream",
     "text": [
      "<class 'pandas.core.frame.DataFrame'>\n",
      "RangeIndex: 1070994 entries, 0 to 1070993\n",
      "Data columns (total 32 columns):\n",
      " #   Column    Non-Null Count    Dtype  \n",
      "---  ------    --------------    -----  \n",
      " 0   RECORD    1070994 non-null  int64  \n",
      " 1   BBLE      1070994 non-null  object \n",
      " 2   B         1070994 non-null  int64  \n",
      " 3   BLOCK     1070994 non-null  int64  \n",
      " 4   LOT       1070994 non-null  int64  \n",
      " 5   EASEMENT  4636 non-null     object \n",
      " 6   OWNER     1039249 non-null  object \n",
      " 7   BLDGCL    1070994 non-null  object \n",
      " 8   TAXCLASS  1070994 non-null  object \n",
      " 9   LTFRONT   1070994 non-null  int64  \n",
      " 10  LTDEPTH   1070994 non-null  int64  \n",
      " 11  EXT       354305 non-null   object \n",
      " 12  STORIES   1014730 non-null  float64\n",
      " 13  FULLVAL   1070994 non-null  float64\n",
      " 14  AVLAND    1070994 non-null  float64\n",
      " 15  AVTOT     1070994 non-null  float64\n",
      " 16  EXLAND    1070994 non-null  float64\n",
      " 17  EXTOT     1070994 non-null  float64\n",
      " 18  EXCD1     638488 non-null   float64\n",
      " 19  STADDR    1070318 non-null  object \n",
      " 20  ZIP       1041104 non-null  float64\n",
      " 21  EXMPTCL   15579 non-null    object \n",
      " 22  BLDFRONT  1070994 non-null  int64  \n",
      " 23  BLDDEPTH  1070994 non-null  int64  \n",
      " 24  AVLAND2   282726 non-null   float64\n",
      " 25  AVTOT2    282732 non-null   float64\n",
      " 26  EXLAND2   87449 non-null    float64\n",
      " 27  EXTOT2    130828 non-null   float64\n",
      " 28  EXCD2     92948 non-null    float64\n",
      " 29  PERIOD    1070994 non-null  object \n",
      " 30  YEAR      1070994 non-null  object \n",
      " 31  VALTYPE   1070994 non-null  object \n",
      "dtypes: float64(13), int64(8), object(11)\n",
      "memory usage: 261.5+ MB\n"
     ]
    }
   ],
   "source": [
    "data=pd.read_csv(\"NY property data.csv\")\n",
    "data.info()"
   ]
  },
  {
   "cell_type": "markdown",
   "metadata": {},
   "source": [
    "## 2. Data Cleaning\n",
    "\n",
    "### 2.1 Remove properties owned by city, state, or federal governments"
   ]
  },
  {
   "cell_type": "code",
   "execution_count": 4,
   "metadata": {},
   "outputs": [],
   "source": [
    "# Remove properties owned by city, state, or federal governments\n",
    "remove_list=['PARKCHESTER PRESERVAT',\n",
    "            'PARKS AND RECREATION',\n",
    "            'DCAS',\n",
    "            'HOUSING PRESERVATION',\n",
    "            'CITY OF NEW YORK',\n",
    "            'DEPT OF ENVIRONMENTAL',\n",
    "            'BOARD OF EDUCATION',\n",
    "            'NEW YORK CITY HOUSING',\n",
    "            'CNY/NYCTA',\n",
    "            'NYC HOUSING PARTNERSH',\n",
    "            'DEPARTMENT OF BUSINES',\n",
    "            'DEPT OF TRANSPORTATIO',\n",
    "            'MTA/LIRR',\n",
    "            'PARCKHESTER PRESERVAT',\n",
    "            'MH RESIDENTIAL 1, LLC',\n",
    "            'LINCOLN PLAZA ASSOCIA',\n",
    "            'UNITED STATES OF AMER',\n",
    "            'U S GOVERNMENT OWNRD',\n",
    "            'THE CITY OF NEW YORK',\n",
    "            'NYS URBAN DEVELOPMENT',\n",
    "            'NYS DEPT OF ENVIRONME',\n",
    "            'CULTURAL AFFAIRS',\n",
    "            'DEPT OF GENERAL SERVI',\n",
    "            \"DEPT RE-CITY OF NY\"]\n",
    "property_data=data[~data['OWNER'].isin(remove_list)].copy().reset_index()"
   ]
  },
  {
   "cell_type": "markdown",
   "metadata": {},
   "source": [
    "### 2.2 Filling N/A\n",
    "\n",
    "#### 2.2.1 ZIP"
   ]
  },
  {
   "cell_type": "code",
   "execution_count": 5,
   "metadata": {},
   "outputs": [
    {
     "data": {
      "text/plain": [
       "21772"
      ]
     },
     "execution_count": 5,
     "metadata": {},
     "output_type": "execute_result"
    }
   ],
   "source": [
    "missing_zips=property_data.index[property_data[\"ZIP\"].isnull()].tolist()\n",
    "len(missing_zips)"
   ]
  },
  {
   "cell_type": "code",
   "execution_count": 6,
   "metadata": {},
   "outputs": [
    {
     "data": {
      "text/plain": [
       "10245"
      ]
     },
     "execution_count": 6,
     "metadata": {},
     "output_type": "execute_result"
    }
   ],
   "source": [
    "# fill with surrounding zips if the zips before and after the row are the same\n",
    "for i in missing_zips:\n",
    "    if(property_data.loc[i+1,'ZIP']==property_data.loc[i-1,'ZIP']):\n",
    "        property_data.loc[i,'ZIP']=property_data.loc[i-1,'ZIP']\n",
    "missing_zips=property_data.index[pd.isnull(property_data[\"ZIP\"])].tolist()\n",
    "len(missing_zips)"
   ]
  },
  {
   "cell_type": "code",
   "execution_count": 7,
   "metadata": {},
   "outputs": [
    {
     "data": {
      "text/plain": [
       "0"
      ]
     },
     "execution_count": 7,
     "metadata": {},
     "output_type": "execute_result"
    }
   ],
   "source": [
    "# fill with preceding ZIP\n",
    "for i in missing_zips:\n",
    "    property_data.loc[i,'ZIP']=property_data.loc[i-1,'ZIP']\n",
    "missing_zips=property_data.index[pd.isnull(property_data[\"ZIP\"])].tolist()\n",
    "len(missing_zips)"
   ]
  },
  {
   "cell_type": "markdown",
   "metadata": {},
   "source": [
    "#### 2.2.2 FULLVAL, AVLAND, AVTOT"
   ]
  },
  {
   "cell_type": "code",
   "execution_count": 8,
   "metadata": {},
   "outputs": [
    {
     "name": "stdout",
     "output_type": "stream",
     "text": [
      "TAXCLASS\n",
      "1     5.700059e+05\n",
      "1A    3.352942e+05\n",
      "1B    3.738399e+05\n",
      "1C    7.615359e+05\n",
      "1D    2.233614e+07\n",
      "2     8.005832e+05\n",
      "2A    8.639066e+05\n",
      "2B    1.254525e+06\n",
      "2C    7.723493e+05\n",
      "3     8.510005e+04\n",
      "4     2.772747e+06\n",
      "Name: FULLVAL, dtype: float64\n"
     ]
    }
   ],
   "source": [
    "# mean of FULLVAL by TAXCLASS\n",
    "property_data[\"FULLVAL\"]=property_data[\"FULLVAL\"].replace('NaN',0)\n",
    "temp=property_data[property_data[\"FULLVAL\"]!=0]\n",
    "mean_fullval=temp.groupby(\"TAXCLASS\")[\"FULLVAL\"].mean()\n",
    "print(mean_fullval)"
   ]
  },
  {
   "cell_type": "code",
   "execution_count": 9,
   "metadata": {},
   "outputs": [],
   "source": [
    "# mean of AVLAND by TAXCLASS\n",
    "property_data[\"AVLAND\"]=property_data[\"AVLAND\"].replace('NaN',0)\n",
    "temp_avland=property_data[property_data[\"AVLAND\"]!=0]\n",
    "mean_avland=temp.groupby(\"TAXCLASS\")[\"AVLAND\"].mean()"
   ]
  },
  {
   "cell_type": "code",
   "execution_count": 10,
   "metadata": {},
   "outputs": [],
   "source": [
    "# mean of AVTOT by TAXCLASS\n",
    "property_data[\"AVTOT\"]=property_data[\"AVTOT\"].replace('NaN',0)\n",
    "temp_avtot=property_data[property_data[\"AVTOT\"]!=0]\n",
    "mean_avtot=temp.groupby(\"TAXCLASS\")[\"AVTOT\"].mean()"
   ]
  },
  {
   "cell_type": "code",
   "execution_count": 11,
   "metadata": {},
   "outputs": [
    {
     "name": "stdout",
     "output_type": "stream",
     "text": [
      "CPU times: user 1e+03 ns, sys: 0 ns, total: 1e+03 ns\n",
      "Wall time: 4.05 µs\n"
     ]
    }
   ],
   "source": [
    "# sustitute 0 with averages by TAXCLASS\n",
    "%time\n",
    "for index in mean_fullval.index:\n",
    "    property_data.loc[(property_data[\"FULLVAL\"]==0)&(property_data[\"TAXCLASS\"]==index),\"FULLVAL\"]=mean_fullval[index]\n",
    "    property_data.loc[(property_data[\"AVLAND\"]==0)&(property_data[\"TAXCLASS\"]==index),\"AVLAND\"]=mean_avland[index]\n",
    "    property_data.loc[(property_data[\"AVTOT\"]==0)&(property_data[\"TAXCLASS\"]==index),\"AVTOT\"]=mean_avtot[index]\n",
    "    "
   ]
  },
  {
   "cell_type": "markdown",
   "metadata": {},
   "source": [
    "#### 2.2.3 STOREIS"
   ]
  },
  {
   "cell_type": "code",
   "execution_count": 12,
   "metadata": {},
   "outputs": [
    {
     "name": "stdout",
     "output_type": "stream",
     "text": [
      "Num of Missing values:43968\n",
      "Num of 0 stories: 0\n"
     ]
    },
    {
     "data": {
      "text/plain": [
       "1B    19055\n",
       "4     17979\n",
       "2      3434\n",
       "3      2416\n",
       "1       877\n",
       "2C      138\n",
       "2B       34\n",
       "2A       30\n",
       "1A        5\n",
       "Name: TAXCLASS, dtype: int64"
      ]
     },
     "execution_count": 12,
     "metadata": {},
     "output_type": "execute_result"
    }
   ],
   "source": [
    "temp=property_data[property_data[\"STORIES\"].isnull()]\n",
    "print(f\"Num of Missing values:{len(temp)}\")\n",
    "print(\"Num of 0 stories: {}\".format((property_data[\"STORIES\"]==0).sum()))\n",
    "temp[\"TAXCLASS\"].value_counts()"
   ]
  },
  {
   "cell_type": "code",
   "execution_count": 13,
   "metadata": {},
   "outputs": [
    {
     "data": {
      "text/plain": [
       "TAXCLASS\n",
       "1      2.111633\n",
       "1A     1.656867\n",
       "1B     4.000000\n",
       "1C     3.052748\n",
       "1D     1.068966\n",
       "2     16.310549\n",
       "2A     2.844032\n",
       "2B     4.001635\n",
       "2C     4.744977\n",
       "3      1.000000\n",
       "4      5.517257\n",
       "Name: STORIES, dtype: float64"
      ]
     },
     "execution_count": 13,
     "metadata": {},
     "output_type": "execute_result"
    }
   ],
   "source": [
    "mean_stories=property_data.groupby(\"TAXCLASS\")[\"STORIES\"].mean()\n",
    "mean_stories"
   ]
  },
  {
   "cell_type": "code",
   "execution_count": 14,
   "metadata": {},
   "outputs": [],
   "source": [
    "property_data[\"STORIES\"]=property_data[\"STORIES\"].fillna(0)\n",
    "for index in mean_stories.index:\n",
    "    property_data.loc[(property_data[\"STORIES\"]==0)&(property_data[\"TAXCLASS\"]==index),'STORIES']=mean_stories[index]"
   ]
  },
  {
   "cell_type": "markdown",
   "metadata": {},
   "source": [
    "#### 2.2.4 LTFRONT, LTDEPTH, BLDFRONT, BLDDEPTH"
   ]
  },
  {
   "cell_type": "code",
   "execution_count": 15,
   "metadata": {},
   "outputs": [],
   "source": [
    "# as these 4 values do not have NAs, we need to replace 0s and 1s\n",
    "# calculate groupwise average. First replace 0's and 1's by NAs so they are not counted in calculating mean.\n",
    "property_data.loc[property_data[\"LTFRONT\"]==0,\"LTFRONT\"]=np.nan\n",
    "property_data.loc[property_data[\"LTFRONT\"]==1,\"LTFRONT\"]=np.nan\n",
    "property_data.loc[property_data[\"LTDEPTH\"]==0,\"LTDEPTH\"]=np.nan\n",
    "property_data.loc[property_data[\"LTDEPTH\"]==1,\"LTDEPTH\"]=np.nan\n",
    "property_data.loc[property_data[\"BLDFRONT\"]==0,\"BLDFRONT\"]=np.nan\n",
    "property_data.loc[property_data[\"BLDFRONT\"]==1,\"BLDFRONT\"]=np.nan\n",
    "property_data.loc[property_data[\"BLDDEPTH\"]==0,\"BLDDEPTH\"]=np.nan\n",
    "property_data.loc[property_data[\"BLDDEPTH\"]==1,\"BLDDEPTH\"]=np.nan"
   ]
  },
  {
   "cell_type": "code",
   "execution_count": 16,
   "metadata": {},
   "outputs": [],
   "source": [
    "# calculate the mean \n",
    "mean_LTFRONT=property_data.groupby(\"TAXCLASS\")[\"LTFRONT\"].mean()\n",
    "mean_LTDEPTH=property_data.groupby(\"TAXCLASS\")[\"LTDEPTH\"].mean()\n",
    "mean_BLDFRONT=property_data.groupby(\"TAXCLASS\")[\"BLDFRONT\"].mean()\n",
    "mean_BLDDEPTH=property_data.groupby(\"TAXCLASS\")[\"BLDDEPTH\"].mean()"
   ]
  },
  {
   "cell_type": "code",
   "execution_count": 17,
   "metadata": {},
   "outputs": [],
   "source": [
    "# impute values\n",
    "for index in mean_LTFRONT.index:\n",
    "    property_data.loc[(property_data[\"LTFRONT\"].isnull())&(property_data[\"TAXCLASS\"]==index),\"LTFRONT\"]=mean_LTFRONT[index]\n",
    "    property_data.loc[(property_data[\"LTDEPTH\"].isnull())&(property_data[\"TAXCLASS\"]==index),\"LTDEPTH\"]=mean_LTDEPTH[index]\n",
    "    property_data.loc[(property_data[\"BLDFRONT\"].isnull())&(property_data[\"TAXCLASS\"]==index),\"BLDFRONT\"]=mean_BLDFRONT[index]\n",
    "    property_data.loc[(property_data[\"BLDDEPTH\"].isnull())&(property_data[\"TAXCLASS\"]==index),\"BLDDEPTH\"]=mean_BLDDEPTH[index]"
   ]
  },
  {
   "cell_type": "markdown",
   "metadata": {},
   "source": [
    "## 3. Create Variables"
   ]
  },
  {
   "cell_type": "code",
   "execution_count": 18,
   "metadata": {},
   "outputs": [],
   "source": [
    "property_data[\"ZIP\"]=property_data[\"ZIP\"].astype(str)\n",
    "property_data[\"zip3\"]=property_data[\"ZIP\"].str[:3]"
   ]
  },
  {
   "cell_type": "code",
   "execution_count": 19,
   "metadata": {},
   "outputs": [],
   "source": [
    "property_data[\"ltsize\"]=property_data[\"LTFRONT\"]*property_data[\"LTDEPTH\"]\n",
    "property_data[\"bldsize\"]=property_data[\"BLDFRONT\"]*property_data[\"BLDDEPTH\"]\n",
    "property_data[\"bldvol\"]=property_data[\"bldsize\"]*property_data[\"STORIES\"]"
   ]
  },
  {
   "cell_type": "code",
   "execution_count": 20,
   "metadata": {},
   "outputs": [],
   "source": [
    "property_data['r1']=property_data[\"FULLVAL\"]/property_data[\"ltsize\"]\n",
    "property_data['r2']=property_data[\"FULLVAL\"]/property_data[\"bldsize\"]\n",
    "property_data['r3']=property_data[\"FULLVAL\"]/property_data[\"bldvol\"]\n",
    "property_data['r4']=property_data[\"AVLAND\"]/property_data[\"ltsize\"]\n",
    "property_data['r5']=property_data[\"AVLAND\"]/property_data[\"bldsize\"]\n",
    "property_data['r6']=property_data[\"AVLAND\"]/property_data[\"bldvol\"]\n",
    "property_data['r7']=property_data[\"AVTOT\"]/property_data[\"ltsize\"]\n",
    "property_data['r8']=property_data[\"AVTOT\"]/property_data[\"bldsize\"]\n",
    "property_data['r9']=property_data[\"AVTOT\"]/property_data[\"bldvol\"]"
   ]
  },
  {
   "cell_type": "code",
   "execution_count": 21,
   "metadata": {},
   "outputs": [],
   "source": [
    "ninevars=['r1','r2','r3','r4','r5','r6','r7','r8','r9']\n",
    "zip5_mean=property_data.groupby('ZIP')[ninevars].mean()\n",
    "zip3_mean=property_data.groupby('zip3')[ninevars].mean()\n",
    "taxclass_mean=property_data.groupby('TAXCLASS')[ninevars].mean()\n",
    "borough_mean=property_data.groupby(\"B\")[ninevars].mean()\n",
    "\n",
    "property_data=property_data.join(zip5_mean,on='ZIP',rsuffix='_zip5')\n",
    "property_data=property_data.join(zip3_mean,on='zip3',rsuffix='_zip3')\n",
    "property_data=property_data.join(taxclass_mean,on='TAXCLASS',rsuffix='_taxclass')\n",
    "property_data=property_data.join(borough_mean,on='B',rsuffix='_boro')"
   ]
  },
  {
   "cell_type": "code",
   "execution_count": 22,
   "metadata": {},
   "outputs": [],
   "source": [
    "rsuffix=['_zip5','_zip3','_taxclass','_boro']\n",
    "for var in ninevars:\n",
    "    for r in rsuffix:\n",
    "        property_data[str(var)+r]=property_data[var]/property_data[str(var)+r]"
   ]
  },
  {
   "cell_type": "code",
   "execution_count": 23,
   "metadata": {},
   "outputs": [],
   "source": [
    "# property_data.loc[:,property_data.columns[37:]].describe().T.to_excel(\"test.xlsx\")"
   ]
  },
  {
   "cell_type": "markdown",
   "metadata": {},
   "source": [
    "## 4. Two Fraud Scores"
   ]
  },
  {
   "cell_type": "code",
   "execution_count": 24,
   "metadata": {},
   "outputs": [
    {
     "data": {
      "text/plain": [
       "(1046826, 45)"
      ]
     },
     "execution_count": 24,
     "metadata": {},
     "output_type": "execute_result"
    }
   ],
   "source": [
    "data45=property_data.loc[:,property_data.columns[37:]].copy()\n",
    "data45.shape"
   ]
  },
  {
   "cell_type": "markdown",
   "metadata": {},
   "source": [
    "### 4.1 Feature scaling"
   ]
  },
  {
   "cell_type": "code",
   "execution_count": 25,
   "metadata": {},
   "outputs": [],
   "source": [
    "data45_nom=(data45-data45.mean())/data45.std()"
   ]
  },
  {
   "cell_type": "code",
   "execution_count": 28,
   "metadata": {},
   "outputs": [
    {
     "data": {
      "text/plain": [
       "Index(['r1', 'r2', 'r3', 'r4', 'r5', 'r6', 'r7', 'r8', 'r9', 'r1_zip5',\n",
       "       'r2_zip5', 'r3_zip5', 'r4_zip5', 'r5_zip5', 'r6_zip5', 'r7_zip5',\n",
       "       'r8_zip5', 'r9_zip5', 'r1_zip3', 'r2_zip3', 'r3_zip3', 'r4_zip3',\n",
       "       'r5_zip3', 'r6_zip3', 'r7_zip3', 'r8_zip3', 'r9_zip3', 'r1_taxclass',\n",
       "       'r2_taxclass', 'r3_taxclass', 'r4_taxclass', 'r5_taxclass',\n",
       "       'r6_taxclass', 'r7_taxclass', 'r8_taxclass', 'r9_taxclass', 'r1_boro',\n",
       "       'r2_boro', 'r3_boro', 'r4_boro', 'r5_boro', 'r6_boro', 'r7_boro',\n",
       "       'r8_boro', 'r9_boro'],\n",
       "      dtype='object')"
      ]
     },
     "execution_count": 28,
     "metadata": {},
     "output_type": "execute_result"
    }
   ],
   "source": [
    "data45_nom.columns"
   ]
  },
  {
   "cell_type": "code",
   "execution_count": 30,
   "metadata": {},
   "outputs": [
    {
     "data": {
      "text/html": [
       "<div>\n",
       "<style scoped>\n",
       "    .dataframe tbody tr th:only-of-type {\n",
       "        vertical-align: middle;\n",
       "    }\n",
       "\n",
       "    .dataframe tbody tr th {\n",
       "        vertical-align: top;\n",
       "    }\n",
       "\n",
       "    .dataframe thead th {\n",
       "        text-align: right;\n",
       "    }\n",
       "</style>\n",
       "<table border=\"1\" class=\"dataframe\">\n",
       "  <thead>\n",
       "    <tr style=\"text-align: right;\">\n",
       "      <th></th>\n",
       "      <th>917941</th>\n",
       "    </tr>\n",
       "  </thead>\n",
       "  <tbody>\n",
       "    <tr>\n",
       "      <th>r1</th>\n",
       "      <td>-0.207992</td>\n",
       "    </tr>\n",
       "    <tr>\n",
       "      <th>r2</th>\n",
       "      <td>0.116828</td>\n",
       "    </tr>\n",
       "    <tr>\n",
       "      <th>r3</th>\n",
       "      <td>0.168682</td>\n",
       "    </tr>\n",
       "    <tr>\n",
       "      <th>r4</th>\n",
       "      <td>-0.108807</td>\n",
       "    </tr>\n",
       "    <tr>\n",
       "      <th>r5</th>\n",
       "      <td>-0.012186</td>\n",
       "    </tr>\n",
       "    <tr>\n",
       "      <th>r6</th>\n",
       "      <td>-0.005267</td>\n",
       "    </tr>\n",
       "    <tr>\n",
       "      <th>r7</th>\n",
       "      <td>-0.107659</td>\n",
       "    </tr>\n",
       "    <tr>\n",
       "      <th>r8</th>\n",
       "      <td>-0.020674</td>\n",
       "    </tr>\n",
       "    <tr>\n",
       "      <th>r9</th>\n",
       "      <td>-0.010638</td>\n",
       "    </tr>\n",
       "    <tr>\n",
       "      <th>r1_zip5</th>\n",
       "      <td>-0.033876</td>\n",
       "    </tr>\n",
       "    <tr>\n",
       "      <th>r2_zip5</th>\n",
       "      <td>0.251030</td>\n",
       "    </tr>\n",
       "    <tr>\n",
       "      <th>r3_zip5</th>\n",
       "      <td>0.193118</td>\n",
       "    </tr>\n",
       "    <tr>\n",
       "      <th>r4_zip5</th>\n",
       "      <td>-0.102940</td>\n",
       "    </tr>\n",
       "    <tr>\n",
       "      <th>r5_zip5</th>\n",
       "      <td>0.002835</td>\n",
       "    </tr>\n",
       "    <tr>\n",
       "      <th>r6_zip5</th>\n",
       "      <td>-0.003692</td>\n",
       "    </tr>\n",
       "    <tr>\n",
       "      <th>r7_zip5</th>\n",
       "      <td>-0.113573</td>\n",
       "    </tr>\n",
       "    <tr>\n",
       "      <th>r8_zip5</th>\n",
       "      <td>-0.002460</td>\n",
       "    </tr>\n",
       "    <tr>\n",
       "      <th>r9_zip5</th>\n",
       "      <td>-0.005994</td>\n",
       "    </tr>\n",
       "    <tr>\n",
       "      <th>r1_zip3</th>\n",
       "      <td>-0.135850</td>\n",
       "    </tr>\n",
       "    <tr>\n",
       "      <th>r2_zip3</th>\n",
       "      <td>0.190210</td>\n",
       "    </tr>\n",
       "    <tr>\n",
       "      <th>r3_zip3</th>\n",
       "      <td>0.107680</td>\n",
       "    </tr>\n",
       "    <tr>\n",
       "      <th>r4_zip3</th>\n",
       "      <td>-0.106445</td>\n",
       "    </tr>\n",
       "    <tr>\n",
       "      <th>r5_zip3</th>\n",
       "      <td>-0.000860</td>\n",
       "    </tr>\n",
       "    <tr>\n",
       "      <th>r6_zip3</th>\n",
       "      <td>-0.006102</td>\n",
       "    </tr>\n",
       "    <tr>\n",
       "      <th>r7_zip3</th>\n",
       "      <td>-0.105697</td>\n",
       "    </tr>\n",
       "    <tr>\n",
       "      <th>r8_zip3</th>\n",
       "      <td>-0.000757</td>\n",
       "    </tr>\n",
       "    <tr>\n",
       "      <th>r9_zip3</th>\n",
       "      <td>-0.006527</td>\n",
       "    </tr>\n",
       "    <tr>\n",
       "      <th>r1_taxclass</th>\n",
       "      <td>-0.188309</td>\n",
       "    </tr>\n",
       "    <tr>\n",
       "      <th>r2_taxclass</th>\n",
       "      <td>-0.008519</td>\n",
       "    </tr>\n",
       "    <tr>\n",
       "      <th>r3_taxclass</th>\n",
       "      <td>-0.000262</td>\n",
       "    </tr>\n",
       "    <tr>\n",
       "      <th>r4_taxclass</th>\n",
       "      <td>-0.151906</td>\n",
       "    </tr>\n",
       "    <tr>\n",
       "      <th>r5_taxclass</th>\n",
       "      <td>0.005207</td>\n",
       "    </tr>\n",
       "    <tr>\n",
       "      <th>r6_taxclass</th>\n",
       "      <td>0.007232</td>\n",
       "    </tr>\n",
       "    <tr>\n",
       "      <th>r7_taxclass</th>\n",
       "      <td>-0.167485</td>\n",
       "    </tr>\n",
       "    <tr>\n",
       "      <th>r8_taxclass</th>\n",
       "      <td>0.009520</td>\n",
       "    </tr>\n",
       "    <tr>\n",
       "      <th>r9_taxclass</th>\n",
       "      <td>0.013248</td>\n",
       "    </tr>\n",
       "    <tr>\n",
       "      <th>r1_boro</th>\n",
       "      <td>-0.137800</td>\n",
       "    </tr>\n",
       "    <tr>\n",
       "      <th>r2_boro</th>\n",
       "      <td>0.201561</td>\n",
       "    </tr>\n",
       "    <tr>\n",
       "      <th>r3_boro</th>\n",
       "      <td>0.112184</td>\n",
       "    </tr>\n",
       "    <tr>\n",
       "      <th>r4_boro</th>\n",
       "      <td>-0.107873</td>\n",
       "    </tr>\n",
       "    <tr>\n",
       "      <th>r5_boro</th>\n",
       "      <td>-0.000858</td>\n",
       "    </tr>\n",
       "    <tr>\n",
       "      <th>r6_boro</th>\n",
       "      <td>-0.006138</td>\n",
       "    </tr>\n",
       "    <tr>\n",
       "      <th>r7_boro</th>\n",
       "      <td>-0.106207</td>\n",
       "    </tr>\n",
       "    <tr>\n",
       "      <th>r8_boro</th>\n",
       "      <td>-0.000777</td>\n",
       "    </tr>\n",
       "    <tr>\n",
       "      <th>r9_boro</th>\n",
       "      <td>-0.006769</td>\n",
       "    </tr>\n",
       "  </tbody>\n",
       "</table>\n",
       "</div>"
      ],
      "text/plain": [
       "               917941\n",
       "r1          -0.207992\n",
       "r2           0.116828\n",
       "r3           0.168682\n",
       "r4          -0.108807\n",
       "r5          -0.012186\n",
       "r6          -0.005267\n",
       "r7          -0.107659\n",
       "r8          -0.020674\n",
       "r9          -0.010638\n",
       "r1_zip5     -0.033876\n",
       "r2_zip5      0.251030\n",
       "r3_zip5      0.193118\n",
       "r4_zip5     -0.102940\n",
       "r5_zip5      0.002835\n",
       "r6_zip5     -0.003692\n",
       "r7_zip5     -0.113573\n",
       "r8_zip5     -0.002460\n",
       "r9_zip5     -0.005994\n",
       "r1_zip3     -0.135850\n",
       "r2_zip3      0.190210\n",
       "r3_zip3      0.107680\n",
       "r4_zip3     -0.106445\n",
       "r5_zip3     -0.000860\n",
       "r6_zip3     -0.006102\n",
       "r7_zip3     -0.105697\n",
       "r8_zip3     -0.000757\n",
       "r9_zip3     -0.006527\n",
       "r1_taxclass -0.188309\n",
       "r2_taxclass -0.008519\n",
       "r3_taxclass -0.000262\n",
       "r4_taxclass -0.151906\n",
       "r5_taxclass  0.005207\n",
       "r6_taxclass  0.007232\n",
       "r7_taxclass -0.167485\n",
       "r8_taxclass  0.009520\n",
       "r9_taxclass  0.013248\n",
       "r1_boro     -0.137800\n",
       "r2_boro      0.201561\n",
       "r3_boro      0.112184\n",
       "r4_boro     -0.107873\n",
       "r5_boro     -0.000858\n",
       "r6_boro     -0.006138\n",
       "r7_boro     -0.106207\n",
       "r8_boro     -0.000777\n",
       "r9_boro     -0.006769"
      ]
     },
     "execution_count": 30,
     "metadata": {},
     "output_type": "execute_result"
    }
   ],
   "source": [
    "data45_nom[data45_nom.index==917941].T"
   ]
  },
  {
   "cell_type": "markdown",
   "metadata": {},
   "source": [
    "### 4.2 PCA"
   ]
  },
  {
   "cell_type": "code",
   "execution_count": 44,
   "metadata": {},
   "outputs": [
    {
     "data": {
      "image/png": "[encoded data removed]",
      "text/plain": [
       "<Figure size 432x288 with 1 Axes>"
      ]
     },
     "metadata": {
      "needs_background": "light"
     },
     "output_type": "display_data"
    }
   ],
   "source": [
    "pca=PCA(n_components=.99,svd_solver=\"full\")\n",
    "pca.fit(data45_nom)\n",
    "plt.plot(np.cumsum(pca.explained_variance_ratio_))\n",
    "plt.xlabel(\"Number of components\")\n",
    "plt.ylabel(\"Cumulative explained variance\")\n",
    "plt.yticks(np.arange(0.05,1.1,step=.1))\n",
    "plt.xticks(np.arange(0,20,step=2))\n",
    "plt.axvline(x=6,linestyle='--')\n",
    "plt.ylim(0,1)\n",
    "plt.savefig(\"pca.jpg\")"
   ]
  },
  {
   "cell_type": "code",
   "execution_count": 54,
   "metadata": {},
   "outputs": [
    {
     "data": {
      "text/plain": [
       "(1046826, 6)"
      ]
     },
     "execution_count": 54,
     "metadata": {},
     "output_type": "execute_result"
    }
   ],
   "source": [
    "data_pca.shape"
   ]
  },
  {
   "cell_type": "code",
   "execution_count": 52,
   "metadata": {},
   "outputs": [
    {
     "data": {
      "text/plain": [
       "(1046826, 45)"
      ]
     },
     "execution_count": 52,
     "metadata": {},
     "output_type": "execute_result"
    }
   ],
   "source": [
    "data45_nom.shape"
   ]
  },
  {
   "cell_type": "code",
   "execution_count": 61,
   "metadata": {},
   "outputs": [],
   "source": []
  },
  {
   "cell_type": "markdown",
   "metadata": {},
   "source": [
    "We decide to keep the top 6 principal components and recalculate PCA"
   ]
  },
  {
   "cell_type": "code",
   "execution_count": 35,
   "metadata": {},
   "outputs": [
    {
     "data": {
      "text/plain": [
       "(1046826, 6)"
      ]
     },
     "execution_count": 35,
     "metadata": {},
     "output_type": "execute_result"
    }
   ],
   "source": [
    "pca=PCA(n_components=6)\n",
    "princ_comps=pca.fit_transform(data45_nom)\n",
    "data_pca=pd.DataFrame(princ_comps,columns=['PC'+str(i) for i in range(1,pca.n_components_+1)])\n",
    "data_pca.shape"
   ]
  },
  {
   "cell_type": "markdown",
   "metadata": {},
   "source": [
    "Z scale the PC's"
   ]
  },
  {
   "cell_type": "code",
   "execution_count": 36,
   "metadata": {},
   "outputs": [
    {
     "data": {
      "text/html": [
       "<div>\n",
       "<style scoped>\n",
       "    .dataframe tbody tr th:only-of-type {\n",
       "        vertical-align: middle;\n",
       "    }\n",
       "\n",
       "    .dataframe tbody tr th {\n",
       "        vertical-align: top;\n",
       "    }\n",
       "\n",
       "    .dataframe thead th {\n",
       "        text-align: right;\n",
       "    }\n",
       "</style>\n",
       "<table border=\"1\" class=\"dataframe\">\n",
       "  <thead>\n",
       "    <tr style=\"text-align: right;\">\n",
       "      <th></th>\n",
       "      <th>PC1</th>\n",
       "      <th>PC2</th>\n",
       "      <th>PC3</th>\n",
       "      <th>PC4</th>\n",
       "      <th>PC5</th>\n",
       "      <th>PC6</th>\n",
       "    </tr>\n",
       "  </thead>\n",
       "  <tbody>\n",
       "    <tr>\n",
       "      <th>count</th>\n",
       "      <td>1.046826e+06</td>\n",
       "      <td>1.046826e+06</td>\n",
       "      <td>1.046826e+06</td>\n",
       "      <td>1.046826e+06</td>\n",
       "      <td>1.046826e+06</td>\n",
       "      <td>1.046826e+06</td>\n",
       "    </tr>\n",
       "    <tr>\n",
       "      <th>mean</th>\n",
       "      <td>-1.344949e-16</td>\n",
       "      <td>2.775073e-15</td>\n",
       "      <td>-7.680978e-16</td>\n",
       "      <td>2.589567e-15</td>\n",
       "      <td>-3.892716e-15</td>\n",
       "      <td>1.232812e-15</td>\n",
       "    </tr>\n",
       "    <tr>\n",
       "      <th>std</th>\n",
       "      <td>1.000000e+00</td>\n",
       "      <td>1.000000e+00</td>\n",
       "      <td>1.000000e+00</td>\n",
       "      <td>1.000000e+00</td>\n",
       "      <td>1.000000e+00</td>\n",
       "      <td>1.000000e+00</td>\n",
       "    </tr>\n",
       "    <tr>\n",
       "      <th>min</th>\n",
       "      <td>-2.585169e-01</td>\n",
       "      <td>-2.280285e+02</td>\n",
       "      <td>-1.990058e+02</td>\n",
       "      <td>-2.023902e+02</td>\n",
       "      <td>-2.438866e+02</td>\n",
       "      <td>-2.002481e+02</td>\n",
       "    </tr>\n",
       "    <tr>\n",
       "      <th>25%</th>\n",
       "      <td>-1.088008e-01</td>\n",
       "      <td>-1.544611e-01</td>\n",
       "      <td>-1.356178e-01</td>\n",
       "      <td>-3.269407e-02</td>\n",
       "      <td>-1.159060e-01</td>\n",
       "      <td>-1.101848e-01</td>\n",
       "    </tr>\n",
       "    <tr>\n",
       "      <th>50%</th>\n",
       "      <td>-2.375699e-02</td>\n",
       "      <td>-5.919442e-02</td>\n",
       "      <td>6.965017e-04</td>\n",
       "      <td>1.366906e-02</td>\n",
       "      <td>-1.313763e-02</td>\n",
       "      <td>-2.535340e-02</td>\n",
       "    </tr>\n",
       "    <tr>\n",
       "      <th>75%</th>\n",
       "      <td>3.290240e-02</td>\n",
       "      <td>3.225958e-02</td>\n",
       "      <td>3.206016e-01</td>\n",
       "      <td>7.018394e-02</td>\n",
       "      <td>4.879357e-02</td>\n",
       "      <td>1.382280e-01</td>\n",
       "    </tr>\n",
       "    <tr>\n",
       "      <th>max</th>\n",
       "      <td>6.907817e+02</td>\n",
       "      <td>3.239819e+02</td>\n",
       "      <td>5.967327e+02</td>\n",
       "      <td>2.507934e+02</td>\n",
       "      <td>4.068853e+02</td>\n",
       "      <td>4.017191e+02</td>\n",
       "    </tr>\n",
       "  </tbody>\n",
       "</table>\n",
       "</div>"
      ],
      "text/plain": [
       "                PC1           PC2           PC3           PC4           PC5  \\\n",
       "count  1.046826e+06  1.046826e+06  1.046826e+06  1.046826e+06  1.046826e+06   \n",
       "mean  -1.344949e-16  2.775073e-15 -7.680978e-16  2.589567e-15 -3.892716e-15   \n",
       "std    1.000000e+00  1.000000e+00  1.000000e+00  1.000000e+00  1.000000e+00   \n",
       "min   -2.585169e-01 -2.280285e+02 -1.990058e+02 -2.023902e+02 -2.438866e+02   \n",
       "25%   -1.088008e-01 -1.544611e-01 -1.356178e-01 -3.269407e-02 -1.159060e-01   \n",
       "50%   -2.375699e-02 -5.919442e-02  6.965017e-04  1.366906e-02 -1.313763e-02   \n",
       "75%    3.290240e-02  3.225958e-02  3.206016e-01  7.018394e-02  4.879357e-02   \n",
       "max    6.907817e+02  3.239819e+02  5.967327e+02  2.507934e+02  4.068853e+02   \n",
       "\n",
       "                PC6  \n",
       "count  1.046826e+06  \n",
       "mean   1.232812e-15  \n",
       "std    1.000000e+00  \n",
       "min   -2.002481e+02  \n",
       "25%   -1.101848e-01  \n",
       "50%   -2.535340e-02  \n",
       "75%    1.382280e-01  \n",
       "max    4.017191e+02  "
      ]
     },
     "execution_count": 36,
     "metadata": {},
     "output_type": "execute_result"
    }
   ],
   "source": [
    "pca_mean=data_pca.mean()\n",
    "pca_sd=data_pca.std()\n",
    "data_pca=(data_pca-pca_mean)/pca_sd\n",
    "data_pca.describe()"
   ]
  },
  {
   "cell_type": "code",
   "execution_count": 37,
   "metadata": {},
   "outputs": [],
   "source": [
    "pc_summary=data_pca.describe()"
   ]
  },
  {
   "cell_type": "code",
   "execution_count": 38,
   "metadata": {},
   "outputs": [
    {
     "data": {
      "text/html": [
       "<div>\n",
       "<style scoped>\n",
       "    .dataframe tbody tr th:only-of-type {\n",
       "        vertical-align: middle;\n",
       "    }\n",
       "\n",
       "    .dataframe tbody tr th {\n",
       "        vertical-align: top;\n",
       "    }\n",
       "\n",
       "    .dataframe thead th {\n",
       "        text-align: right;\n",
       "    }\n",
       "</style>\n",
       "<table border=\"1\" class=\"dataframe\">\n",
       "  <thead>\n",
       "    <tr style=\"text-align: right;\">\n",
       "      <th></th>\n",
       "      <th>PC1</th>\n",
       "      <th>PC2</th>\n",
       "      <th>PC3</th>\n",
       "      <th>PC4</th>\n",
       "      <th>PC5</th>\n",
       "      <th>PC6</th>\n",
       "    </tr>\n",
       "  </thead>\n",
       "  <tbody>\n",
       "    <tr>\n",
       "      <th>count</th>\n",
       "      <td>1046826.00</td>\n",
       "      <td>1046826.00</td>\n",
       "      <td>1046826.00</td>\n",
       "      <td>1046826.00</td>\n",
       "      <td>1046826.00</td>\n",
       "      <td>1046826.00</td>\n",
       "    </tr>\n",
       "    <tr>\n",
       "      <th>mean</th>\n",
       "      <td>-0.00</td>\n",
       "      <td>0.00</td>\n",
       "      <td>-0.00</td>\n",
       "      <td>0.00</td>\n",
       "      <td>-0.00</td>\n",
       "      <td>0.00</td>\n",
       "    </tr>\n",
       "    <tr>\n",
       "      <th>std</th>\n",
       "      <td>1.00</td>\n",
       "      <td>1.00</td>\n",
       "      <td>1.00</td>\n",
       "      <td>1.00</td>\n",
       "      <td>1.00</td>\n",
       "      <td>1.00</td>\n",
       "    </tr>\n",
       "    <tr>\n",
       "      <th>min</th>\n",
       "      <td>-0.26</td>\n",
       "      <td>-228.03</td>\n",
       "      <td>-199.01</td>\n",
       "      <td>-202.39</td>\n",
       "      <td>-243.89</td>\n",
       "      <td>-200.25</td>\n",
       "    </tr>\n",
       "    <tr>\n",
       "      <th>25%</th>\n",
       "      <td>-0.11</td>\n",
       "      <td>-0.15</td>\n",
       "      <td>-0.14</td>\n",
       "      <td>-0.03</td>\n",
       "      <td>-0.12</td>\n",
       "      <td>-0.11</td>\n",
       "    </tr>\n",
       "    <tr>\n",
       "      <th>50%</th>\n",
       "      <td>-0.02</td>\n",
       "      <td>-0.06</td>\n",
       "      <td>0.00</td>\n",
       "      <td>0.01</td>\n",
       "      <td>-0.01</td>\n",
       "      <td>-0.03</td>\n",
       "    </tr>\n",
       "    <tr>\n",
       "      <th>75%</th>\n",
       "      <td>0.03</td>\n",
       "      <td>0.03</td>\n",
       "      <td>0.32</td>\n",
       "      <td>0.07</td>\n",
       "      <td>0.05</td>\n",
       "      <td>0.14</td>\n",
       "    </tr>\n",
       "    <tr>\n",
       "      <th>max</th>\n",
       "      <td>690.78</td>\n",
       "      <td>323.98</td>\n",
       "      <td>596.73</td>\n",
       "      <td>250.79</td>\n",
       "      <td>406.89</td>\n",
       "      <td>401.72</td>\n",
       "    </tr>\n",
       "  </tbody>\n",
       "</table>\n",
       "</div>"
      ],
      "text/plain": [
       "              PC1         PC2         PC3         PC4         PC5         PC6\n",
       "count  1046826.00  1046826.00  1046826.00  1046826.00  1046826.00  1046826.00\n",
       "mean        -0.00        0.00       -0.00        0.00       -0.00        0.00\n",
       "std          1.00        1.00        1.00        1.00        1.00        1.00\n",
       "min         -0.26     -228.03     -199.01     -202.39     -243.89     -200.25\n",
       "25%         -0.11       -0.15       -0.14       -0.03       -0.12       -0.11\n",
       "50%         -0.02       -0.06        0.00        0.01       -0.01       -0.03\n",
       "75%          0.03        0.03        0.32        0.07        0.05        0.14\n",
       "max        690.78      323.98      596.73      250.79      406.89      401.72"
      ]
     },
     "execution_count": 38,
     "metadata": {},
     "output_type": "execute_result"
    }
   ],
   "source": [
    "pc_summary.round(2)"
   ]
  },
  {
   "cell_type": "code",
   "execution_count": 106,
   "metadata": {},
   "outputs": [
    {
     "data": {
      "text/html": [
       "<div>\n",
       "<style scoped>\n",
       "    .dataframe tbody tr th:only-of-type {\n",
       "        vertical-align: middle;\n",
       "    }\n",
       "\n",
       "    .dataframe tbody tr th {\n",
       "        vertical-align: top;\n",
       "    }\n",
       "\n",
       "    .dataframe thead th {\n",
       "        text-align: right;\n",
       "    }\n",
       "</style>\n",
       "<table border=\"1\" class=\"dataframe\">\n",
       "  <thead>\n",
       "    <tr style=\"text-align: right;\">\n",
       "      <th></th>\n",
       "      <th>PC1</th>\n",
       "      <th>PC2</th>\n",
       "      <th>PC3</th>\n",
       "      <th>PC4</th>\n",
       "      <th>PC5</th>\n",
       "      <th>PC6</th>\n",
       "    </tr>\n",
       "  </thead>\n",
       "  <tbody>\n",
       "    <tr>\n",
       "      <th>39769</th>\n",
       "      <td>-0.239557</td>\n",
       "      <td>-0.22931</td>\n",
       "      <td>0.399528</td>\n",
       "      <td>0.023825</td>\n",
       "      <td>0.071283</td>\n",
       "      <td>0.138076</td>\n",
       "    </tr>\n",
       "  </tbody>\n",
       "</table>\n",
       "</div>"
      ],
      "text/plain": [
       "            PC1      PC2       PC3       PC4       PC5       PC6\n",
       "39769 -0.239557 -0.22931  0.399528  0.023825  0.071283  0.138076"
      ]
     },
     "execution_count": 106,
     "metadata": {},
     "output_type": "execute_result"
    }
   ],
   "source": [
    "data_pca[data_pca.index==39769]"
   ]
  },
  {
   "cell_type": "code",
   "execution_count": 104,
   "metadata": {},
   "outputs": [
    {
     "data": {
      "text/plain": [
       "FULLVAL    2.651731e+06\n",
       "AVLAND     1.392748e+05\n",
       "dtype: float64"
      ]
     },
     "execution_count": 104,
     "metadata": {},
     "output_type": "execute_result"
    }
   ],
   "source": [
    "data[data.ZIP==10451][[\"FULLVAL\",\"AVLAND\"]].mean()"
   ]
  },
  {
   "cell_type": "code",
   "execution_count": 108,
   "metadata": {},
   "outputs": [
    {
     "data": {
      "text/html": [
       "<div>\n",
       "<style scoped>\n",
       "    .dataframe tbody tr th:only-of-type {\n",
       "        vertical-align: middle;\n",
       "    }\n",
       "\n",
       "    .dataframe tbody tr th {\n",
       "        vertical-align: top;\n",
       "    }\n",
       "\n",
       "    .dataframe thead th {\n",
       "        text-align: right;\n",
       "    }\n",
       "</style>\n",
       "<table border=\"1\" class=\"dataframe\">\n",
       "  <thead>\n",
       "    <tr style=\"text-align: right;\">\n",
       "      <th></th>\n",
       "      <th>39769</th>\n",
       "    </tr>\n",
       "  </thead>\n",
       "  <tbody>\n",
       "    <tr>\n",
       "      <th>RECORD</th>\n",
       "      <td>39770</td>\n",
       "    </tr>\n",
       "    <tr>\n",
       "      <th>BBLE</th>\n",
       "      <td>1007980066</td>\n",
       "    </tr>\n",
       "    <tr>\n",
       "      <th>B</th>\n",
       "      <td>1</td>\n",
       "    </tr>\n",
       "    <tr>\n",
       "      <th>BLOCK</th>\n",
       "      <td>798</td>\n",
       "    </tr>\n",
       "    <tr>\n",
       "      <th>LOT</th>\n",
       "      <td>66</td>\n",
       "    </tr>\n",
       "    <tr>\n",
       "      <th>EASEMENT</th>\n",
       "      <td>NaN</td>\n",
       "    </tr>\n",
       "    <tr>\n",
       "      <th>OWNER</th>\n",
       "      <td>GREENHORN DEVELOPMENT</td>\n",
       "    </tr>\n",
       "    <tr>\n",
       "      <th>BLDGCL</th>\n",
       "      <td>D9</td>\n",
       "    </tr>\n",
       "    <tr>\n",
       "      <th>TAXCLASS</th>\n",
       "      <td>2</td>\n",
       "    </tr>\n",
       "    <tr>\n",
       "      <th>LTFRONT</th>\n",
       "      <td>75</td>\n",
       "    </tr>\n",
       "    <tr>\n",
       "      <th>LTDEPTH</th>\n",
       "      <td>98</td>\n",
       "    </tr>\n",
       "    <tr>\n",
       "      <th>EXT</th>\n",
       "      <td>NaN</td>\n",
       "    </tr>\n",
       "    <tr>\n",
       "      <th>STORIES</th>\n",
       "      <td>13</td>\n",
       "    </tr>\n",
       "    <tr>\n",
       "      <th>FULLVAL</th>\n",
       "      <td>1.02e+07</td>\n",
       "    </tr>\n",
       "    <tr>\n",
       "      <th>AVLAND</th>\n",
       "      <td>1.7415e+06</td>\n",
       "    </tr>\n",
       "    <tr>\n",
       "      <th>AVTOT</th>\n",
       "      <td>4.59e+06</td>\n",
       "    </tr>\n",
       "    <tr>\n",
       "      <th>EXLAND</th>\n",
       "      <td>0</td>\n",
       "    </tr>\n",
       "    <tr>\n",
       "      <th>EXTOT</th>\n",
       "      <td>0</td>\n",
       "    </tr>\n",
       "    <tr>\n",
       "      <th>EXCD1</th>\n",
       "      <td>NaN</td>\n",
       "    </tr>\n",
       "    <tr>\n",
       "      <th>STADDR</th>\n",
       "      <td>142 WEST 23 STREET</td>\n",
       "    </tr>\n",
       "    <tr>\n",
       "      <th>ZIP</th>\n",
       "      <td>10011</td>\n",
       "    </tr>\n",
       "    <tr>\n",
       "      <th>EXMPTCL</th>\n",
       "      <td>NaN</td>\n",
       "    </tr>\n",
       "    <tr>\n",
       "      <th>BLDFRONT</th>\n",
       "      <td>8</td>\n",
       "    </tr>\n",
       "    <tr>\n",
       "      <th>BLDDEPTH</th>\n",
       "      <td>8</td>\n",
       "    </tr>\n",
       "    <tr>\n",
       "      <th>AVLAND2</th>\n",
       "      <td>1.7415e+06</td>\n",
       "    </tr>\n",
       "    <tr>\n",
       "      <th>AVTOT2</th>\n",
       "      <td>4.5258e+06</td>\n",
       "    </tr>\n",
       "    <tr>\n",
       "      <th>EXLAND2</th>\n",
       "      <td>NaN</td>\n",
       "    </tr>\n",
       "    <tr>\n",
       "      <th>EXTOT2</th>\n",
       "      <td>NaN</td>\n",
       "    </tr>\n",
       "    <tr>\n",
       "      <th>EXCD2</th>\n",
       "      <td>NaN</td>\n",
       "    </tr>\n",
       "    <tr>\n",
       "      <th>PERIOD</th>\n",
       "      <td>FINAL</td>\n",
       "    </tr>\n",
       "    <tr>\n",
       "      <th>YEAR</th>\n",
       "      <td>2010/11</td>\n",
       "    </tr>\n",
       "    <tr>\n",
       "      <th>VALTYPE</th>\n",
       "      <td>AC-TR</td>\n",
       "    </tr>\n",
       "  </tbody>\n",
       "</table>\n",
       "</div>"
      ],
      "text/plain": [
       "                          39769\n",
       "RECORD                    39770\n",
       "BBLE                 1007980066\n",
       "B                             1\n",
       "BLOCK                       798\n",
       "LOT                          66\n",
       "EASEMENT                    NaN\n",
       "OWNER     GREENHORN DEVELOPMENT\n",
       "BLDGCL                       D9\n",
       "TAXCLASS                      2\n",
       "LTFRONT                      75\n",
       "LTDEPTH                      98\n",
       "EXT                         NaN\n",
       "STORIES                      13\n",
       "FULLVAL                1.02e+07\n",
       "AVLAND               1.7415e+06\n",
       "AVTOT                  4.59e+06\n",
       "EXLAND                        0\n",
       "EXTOT                         0\n",
       "EXCD1                       NaN\n",
       "STADDR       142 WEST 23 STREET\n",
       "ZIP                       10011\n",
       "EXMPTCL                     NaN\n",
       "BLDFRONT                      8\n",
       "BLDDEPTH                      8\n",
       "AVLAND2              1.7415e+06\n",
       "AVTOT2               4.5258e+06\n",
       "EXLAND2                     NaN\n",
       "EXTOT2                      NaN\n",
       "EXCD2                       NaN\n",
       "PERIOD                    FINAL\n",
       "YEAR                    2010/11\n",
       "VALTYPE                   AC-TR"
      ]
     },
     "execution_count": 108,
     "metadata": {},
     "output_type": "execute_result"
    }
   ],
   "source": [
    "data[data.index==39769].T"
   ]
  },
  {
   "cell_type": "code",
   "execution_count": 85,
   "metadata": {},
   "outputs": [],
   "source": [
    "from numpy import dot\n",
    "from numpy.linalg import norm\n",
    "\n",
    "def explain(n):\n",
    "    def cos_sim(a,b):\n",
    "        return dot(a, b)/(norm(a)*norm(b))\n",
    "    l=[]\n",
    "    for i in range(data45_nom.shape[1]):\n",
    "        l.append(cos_sim(data_pca.iloc[:,n],data45_nom.iloc[:,i]))\n",
    "    return pd.DataFrame([l,data45_nom.columns]).T.sort_values(by=0,ascending=False)"
   ]
  },
  {
   "cell_type": "code",
   "execution_count": null,
   "metadata": {},
   "outputs": [],
   "source": []
  },
  {
   "cell_type": "code",
   "execution_count": 99,
   "metadata": {},
   "outputs": [
    {
     "data": {
      "text/html": [
       "<div>\n",
       "<style scoped>\n",
       "    .dataframe tbody tr th:only-of-type {\n",
       "        vertical-align: middle;\n",
       "    }\n",
       "\n",
       "    .dataframe tbody tr th {\n",
       "        vertical-align: top;\n",
       "    }\n",
       "\n",
       "    .dataframe thead th {\n",
       "        text-align: right;\n",
       "    }\n",
       "</style>\n",
       "<table border=\"1\" class=\"dataframe\">\n",
       "  <thead>\n",
       "    <tr style=\"text-align: right;\">\n",
       "      <th></th>\n",
       "      <th>0</th>\n",
       "      <th>1</th>\n",
       "    </tr>\n",
       "  </thead>\n",
       "  <tbody>\n",
       "    <tr>\n",
       "      <th>25</th>\n",
       "      <td>0.42592</td>\n",
       "      <td>r8_zip3</td>\n",
       "    </tr>\n",
       "    <tr>\n",
       "      <th>43</th>\n",
       "      <td>0.422784</td>\n",
       "      <td>r8_boro</td>\n",
       "    </tr>\n",
       "    <tr>\n",
       "      <th>40</th>\n",
       "      <td>0.344647</td>\n",
       "      <td>r5_boro</td>\n",
       "    </tr>\n",
       "    <tr>\n",
       "      <th>22</th>\n",
       "      <td>0.340383</td>\n",
       "      <td>r5_zip3</td>\n",
       "    </tr>\n",
       "    <tr>\n",
       "      <th>7</th>\n",
       "      <td>0.335936</td>\n",
       "      <td>r8</td>\n",
       "    </tr>\n",
       "    <tr>\n",
       "      <th>26</th>\n",
       "      <td>0.29328</td>\n",
       "      <td>r9_zip3</td>\n",
       "    </tr>\n",
       "    <tr>\n",
       "      <th>8</th>\n",
       "      <td>0.290779</td>\n",
       "      <td>r9</td>\n",
       "    </tr>\n",
       "    <tr>\n",
       "      <th>4</th>\n",
       "      <td>0.281657</td>\n",
       "      <td>r5</td>\n",
       "    </tr>\n",
       "    <tr>\n",
       "      <th>44</th>\n",
       "      <td>0.281491</td>\n",
       "      <td>r9_boro</td>\n",
       "    </tr>\n",
       "    <tr>\n",
       "      <th>15</th>\n",
       "      <td>0.273362</td>\n",
       "      <td>r7_zip5</td>\n",
       "    </tr>\n",
       "    <tr>\n",
       "      <th>24</th>\n",
       "      <td>0.266476</td>\n",
       "      <td>r7_zip3</td>\n",
       "    </tr>\n",
       "    <tr>\n",
       "      <th>21</th>\n",
       "      <td>0.25444</td>\n",
       "      <td>r4_zip3</td>\n",
       "    </tr>\n",
       "    <tr>\n",
       "      <th>42</th>\n",
       "      <td>0.251254</td>\n",
       "      <td>r7_boro</td>\n",
       "    </tr>\n",
       "    <tr>\n",
       "      <th>39</th>\n",
       "      <td>0.250185</td>\n",
       "      <td>r4_boro</td>\n",
       "    </tr>\n",
       "    <tr>\n",
       "      <th>12</th>\n",
       "      <td>0.243747</td>\n",
       "      <td>r4_zip5</td>\n",
       "    </tr>\n",
       "    <tr>\n",
       "      <th>16</th>\n",
       "      <td>0.160065</td>\n",
       "      <td>r8_zip5</td>\n",
       "    </tr>\n",
       "    <tr>\n",
       "      <th>34</th>\n",
       "      <td>0.142025</td>\n",
       "      <td>r8_taxclass</td>\n",
       "    </tr>\n",
       "    <tr>\n",
       "      <th>35</th>\n",
       "      <td>0.136998</td>\n",
       "      <td>r9_taxclass</td>\n",
       "    </tr>\n",
       "    <tr>\n",
       "      <th>3</th>\n",
       "      <td>0.0973205</td>\n",
       "      <td>r4</td>\n",
       "    </tr>\n",
       "    <tr>\n",
       "      <th>6</th>\n",
       "      <td>0.0740925</td>\n",
       "      <td>r7</td>\n",
       "    </tr>\n",
       "    <tr>\n",
       "      <th>31</th>\n",
       "      <td>0.070322</td>\n",
       "      <td>r5_taxclass</td>\n",
       "    </tr>\n",
       "    <tr>\n",
       "      <th>5</th>\n",
       "      <td>0.0625232</td>\n",
       "      <td>r6</td>\n",
       "    </tr>\n",
       "    <tr>\n",
       "      <th>13</th>\n",
       "      <td>0.0589958</td>\n",
       "      <td>r5_zip5</td>\n",
       "    </tr>\n",
       "    <tr>\n",
       "      <th>23</th>\n",
       "      <td>0.0395792</td>\n",
       "      <td>r6_zip3</td>\n",
       "    </tr>\n",
       "    <tr>\n",
       "      <th>41</th>\n",
       "      <td>0.0301305</td>\n",
       "      <td>r6_boro</td>\n",
       "    </tr>\n",
       "    <tr>\n",
       "      <th>17</th>\n",
       "      <td>0.0197493</td>\n",
       "      <td>r9_zip5</td>\n",
       "    </tr>\n",
       "    <tr>\n",
       "      <th>36</th>\n",
       "      <td>-0.00687032</td>\n",
       "      <td>r1_boro</td>\n",
       "    </tr>\n",
       "    <tr>\n",
       "      <th>18</th>\n",
       "      <td>-0.0150712</td>\n",
       "      <td>r1_zip3</td>\n",
       "    </tr>\n",
       "    <tr>\n",
       "      <th>9</th>\n",
       "      <td>-0.0246539</td>\n",
       "      <td>r1_zip5</td>\n",
       "    </tr>\n",
       "    <tr>\n",
       "      <th>32</th>\n",
       "      <td>-0.0555206</td>\n",
       "      <td>r6_taxclass</td>\n",
       "    </tr>\n",
       "    <tr>\n",
       "      <th>30</th>\n",
       "      <td>-0.0714092</td>\n",
       "      <td>r4_taxclass</td>\n",
       "    </tr>\n",
       "    <tr>\n",
       "      <th>33</th>\n",
       "      <td>-0.0805787</td>\n",
       "      <td>r7_taxclass</td>\n",
       "    </tr>\n",
       "    <tr>\n",
       "      <th>14</th>\n",
       "      <td>-0.0960648</td>\n",
       "      <td>r6_zip5</td>\n",
       "    </tr>\n",
       "    <tr>\n",
       "      <th>27</th>\n",
       "      <td>-0.139648</td>\n",
       "      <td>r1_taxclass</td>\n",
       "    </tr>\n",
       "    <tr>\n",
       "      <th>0</th>\n",
       "      <td>-0.154061</td>\n",
       "      <td>r1</td>\n",
       "    </tr>\n",
       "    <tr>\n",
       "      <th>29</th>\n",
       "      <td>-0.454139</td>\n",
       "      <td>r3_taxclass</td>\n",
       "    </tr>\n",
       "    <tr>\n",
       "      <th>28</th>\n",
       "      <td>-0.470957</td>\n",
       "      <td>r2_taxclass</td>\n",
       "    </tr>\n",
       "    <tr>\n",
       "      <th>10</th>\n",
       "      <td>-0.571212</td>\n",
       "      <td>r2_zip5</td>\n",
       "    </tr>\n",
       "    <tr>\n",
       "      <th>11</th>\n",
       "      <td>-0.578461</td>\n",
       "      <td>r3_zip5</td>\n",
       "    </tr>\n",
       "    <tr>\n",
       "      <th>2</th>\n",
       "      <td>-0.593351</td>\n",
       "      <td>r3</td>\n",
       "    </tr>\n",
       "    <tr>\n",
       "      <th>19</th>\n",
       "      <td>-0.646409</td>\n",
       "      <td>r2_zip3</td>\n",
       "    </tr>\n",
       "    <tr>\n",
       "      <th>38</th>\n",
       "      <td>-0.649589</td>\n",
       "      <td>r3_boro</td>\n",
       "    </tr>\n",
       "    <tr>\n",
       "      <th>1</th>\n",
       "      <td>-0.651879</td>\n",
       "      <td>r2</td>\n",
       "    </tr>\n",
       "    <tr>\n",
       "      <th>37</th>\n",
       "      <td>-0.653871</td>\n",
       "      <td>r2_boro</td>\n",
       "    </tr>\n",
       "    <tr>\n",
       "      <th>20</th>\n",
       "      <td>-0.654612</td>\n",
       "      <td>r3_zip3</td>\n",
       "    </tr>\n",
       "  </tbody>\n",
       "</table>\n",
       "</div>"
      ],
      "text/plain": [
       "             0            1\n",
       "25     0.42592      r8_zip3\n",
       "43    0.422784      r8_boro\n",
       "40    0.344647      r5_boro\n",
       "22    0.340383      r5_zip3\n",
       "7     0.335936           r8\n",
       "26     0.29328      r9_zip3\n",
       "8     0.290779           r9\n",
       "4     0.281657           r5\n",
       "44    0.281491      r9_boro\n",
       "15    0.273362      r7_zip5\n",
       "24    0.266476      r7_zip3\n",
       "21     0.25444      r4_zip3\n",
       "42    0.251254      r7_boro\n",
       "39    0.250185      r4_boro\n",
       "12    0.243747      r4_zip5\n",
       "16    0.160065      r8_zip5\n",
       "34    0.142025  r8_taxclass\n",
       "35    0.136998  r9_taxclass\n",
       "3    0.0973205           r4\n",
       "6    0.0740925           r7\n",
       "31    0.070322  r5_taxclass\n",
       "5    0.0625232           r6\n",
       "13   0.0589958      r5_zip5\n",
       "23   0.0395792      r6_zip3\n",
       "41   0.0301305      r6_boro\n",
       "17   0.0197493      r9_zip5\n",
       "36 -0.00687032      r1_boro\n",
       "18  -0.0150712      r1_zip3\n",
       "9   -0.0246539      r1_zip5\n",
       "32  -0.0555206  r6_taxclass\n",
       "30  -0.0714092  r4_taxclass\n",
       "33  -0.0805787  r7_taxclass\n",
       "14  -0.0960648      r6_zip5\n",
       "27   -0.139648  r1_taxclass\n",
       "0    -0.154061           r1\n",
       "29   -0.454139  r3_taxclass\n",
       "28   -0.470957  r2_taxclass\n",
       "10   -0.571212      r2_zip5\n",
       "11   -0.578461      r3_zip5\n",
       "2    -0.593351           r3\n",
       "19   -0.646409      r2_zip3\n",
       "38   -0.649589      r3_boro\n",
       "1    -0.651879           r2\n",
       "37   -0.653871      r2_boro\n",
       "20   -0.654612      r3_zip3"
      ]
     },
     "execution_count": 99,
     "metadata": {},
     "output_type": "execute_result"
    }
   ],
   "source": [
    "explain(2)"
   ]
  },
  {
   "cell_type": "code",
   "execution_count": null,
   "metadata": {},
   "outputs": [],
   "source": []
  },
  {
   "cell_type": "markdown",
   "metadata": {},
   "source": [
    "### 4.3 Fraud scores\n",
    "\n",
    "#### 4.3.1 Z score outliers"
   ]
  },
  {
   "cell_type": "code",
   "execution_count": 36,
   "metadata": {},
   "outputs": [],
   "source": [
    "p=2\n",
    "one_over_p=1/p\n",
    "score1=((data_pca).abs()**p).sum(axis=1)**one_over_p"
   ]
  },
  {
   "cell_type": "code",
   "execution_count": 42,
   "metadata": {},
   "outputs": [
    {
     "data": {
      "text/plain": [
       "(0.1, 2088582.7348885664)"
      ]
     },
     "execution_count": 42,
     "metadata": {},
     "output_type": "execute_result"
    },
    {
     "data": {
      "image/png": "[encoded data removed]",
      "text/plain": [
       "<Figure size 432x288 with 1 Axes>"
      ]
     },
     "metadata": {
      "needs_background": "light"
     },
     "output_type": "display_data"
    }
   ],
   "source": [
    "plt.hist(score1,bins=100,range=(0,1000))\n",
    "plt.yscale('log')\n",
    "plt.ylim(ymin=.1)"
   ]
  },
  {
   "cell_type": "markdown",
   "metadata": {},
   "source": [
    "#### 4.3.2 Autoencoder error"
   ]
  },
  {
   "cell_type": "code",
   "execution_count": 38,
   "metadata": {},
   "outputs": [],
   "source": [
    "from keras.models import Model\n",
    "from keras.layers import Input, Dense"
   ]
  },
  {
   "cell_type": "code",
   "execution_count": 41,
   "metadata": {},
   "outputs": [
    {
     "name": "stdout",
     "output_type": "stream",
     "text": [
      "Epoch 1/3\n",
      "32714/32714 [==============================] - 27s 804us/step - loss: 1.1195 - val_loss: 0.8970\n",
      "Epoch 2/3\n",
      "32714/32714 [==============================] - 26s 791us/step - loss: 0.7725 - val_loss: 0.8952\n",
      "Epoch 3/3\n",
      "32714/32714 [==============================] - 26s 797us/step - loss: 0.9716 - val_loss: 0.8922\n"
     ]
    }
   ],
   "source": [
    "#placeholder for input\n",
    "data_in=Input(shape=(6,))\n",
    "\n",
    "#dimension of the encoded data. Choose 3\n",
    "encoded_dim=3\n",
    "\n",
    "#encoded representation of the data\n",
    "encoded=Dense(encoded_dim,activation='tanh')(data_in)\n",
    "\n",
    "#reconstruction of the input\n",
    "decoded=Dense(6,activation='tanh')(encoded)\n",
    "\n",
    "#this model maps the input data to the reconstructed data\n",
    "autoencoder=Model(data_in,decoded)\n",
    "\n",
    "autoencoder.compile(optimizer='adam',loss='mean_squared_error')\n",
    "\n",
    "autoencoder.fit(data_pca,data_pca, epochs=3, shuffle=True, validation_data=(data_pca,data_pca))\n",
    "\n",
    "pca_out=autoencoder.predict(data_pca)\n",
    "error=pca_out-data_pca\n",
    "p=2\n",
    "oop=1/p\n",
    "score2=(error.abs()**p).sum(axis=1)**oop"
   ]
  },
  {
   "cell_type": "code",
   "execution_count": 43,
   "metadata": {},
   "outputs": [
    {
     "data": {
      "text/plain": [
       "(0.1, 2090092.3664951806)"
      ]
     },
     "execution_count": 43,
     "metadata": {},
     "output_type": "execute_result"
    },
    {
     "data": {
      "image/png": "[encoded data removed]",
      "text/plain": [
       "<Figure size 432x288 with 1 Axes>"
      ]
     },
     "metadata": {
      "needs_background": "light"
     },
     "output_type": "display_data"
    }
   ],
   "source": [
    "plt.hist(score2,bins=100,range=(0,1000))\n",
    "plt.yscale('log')\n",
    "plt.ylim(ymin=.1)"
   ]
  },
  {
   "cell_type": "markdown",
   "metadata": {},
   "source": [
    "#### 4.3.3 Final score and ranking"
   ]
  },
  {
   "cell_type": "code",
   "execution_count": 44,
   "metadata": {},
   "outputs": [],
   "source": [
    "scores=pd.DataFrame(score1)\n",
    "scores.columns=[\"score1\"]\n",
    "scores[\"score2\"]=score2\n",
    "scores[\"score1_rank\"]=scores['score1'].rank()\n",
    "scores[\"score2_rank\"]=scores[\"score2\"].rank()\n",
    "scores[\"final\"]=(scores[\"score1_rank\"]+scores[\"score2_rank\"])/2\n",
    "top_records=scores.sort_values(['final'],ascending=False).head(100)"
   ]
  },
  {
   "cell_type": "code",
   "execution_count": 47,
   "metadata": {},
   "outputs": [
    {
     "data": {
      "text/plain": [
       "<matplotlib.axes._subplots.AxesSubplot at 0x7fc670d672b0>"
      ]
     },
     "execution_count": 47,
     "metadata": {},
     "output_type": "execute_result"
    },
    {
     "data": {
      "image/png": "[encoded data removed]",
      "text/plain": [
       "<Figure size 432x288 with 1 Axes>"
      ]
     },
     "metadata": {
      "needs_background": "light"
     },
     "output_type": "display_data"
    }
   ],
   "source": [
    "sns.distplot(scores[\"final\"])"
   ]
  },
  {
   "cell_type": "code",
   "execution_count": 63,
   "metadata": {},
   "outputs": [],
   "source": [
    "top_origin=property_data.loc[top_records.index,\"index\":'VALTYPE']"
   ]
  },
  {
   "cell_type": "code",
   "execution_count": 90,
   "metadata": {},
   "outputs": [],
   "source": [
    "final_output=pd.concat([top_origin,top_records.loc[:,\"score1_rank\":\"final\"]],axis=1).set_index(\"index\")\n",
    "final_output.to_excel(\"final_output.xlsx\")"
   ]
  }
 ],
 "metadata": {
  "kernelspec": {
   "display_name": "Python 3",
   "language": "python",
   "name": "python3"
  },
  "language_info": {
   "codemirror_mode": {
    "name": "ipython",
    "version": 3
   },
   "file_extension": ".py",
   "mimetype": "text/x-python",
   "name": "python",
   "nbconvert_exporter": "python",
   "pygments_lexer": "ipython3",
   "version": "3.8.3"
  }
 },
 "nbformat": 4,
 "nbformat_minor": 4
}
